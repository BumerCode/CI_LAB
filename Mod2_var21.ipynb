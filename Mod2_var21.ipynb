import os
import h5py
import numpy as np

path = 'data'

def load_dataset():
    file_name =  os.path.join(path , 'train_signs.h5')
    training_dataset = h5py.File(file_name, "r")
    X_train = np.array(training_dataset["train_set_x"][:]) 
    y_train = np.array(training_dataset["train_set_y"][:])

    file_name =  os.path.join(path , 'test_signs.h5')
    testing_dataset =  h5py.File(file_name, "r")
    X_test = np.array(testing_dataset["test_set_x"][:]) 
    y_test = np.array(testing_dataset["test_set_y"][:])

    classes = np.array(testing_dataset["list_classes"][:]) 
    
    y_train = y_train.reshape((1, y_train.shape[0]))
    y_test = y_test.reshape((1, y_test.shape[0]))
    
    return X_train, y_train, X_test, y_test, classes

X_train, y_train, X_test, y_test, classes = load_dataset()
y_train = y_train.ravel()
y_test = y_test.ravel()
print ('X_train.shape=', X_train.shape)
print ('X_test.shape=', X_test.shape)
print ('y_train.shape=', y_train.shape)
print ('y_test.shape=', y_test.shape)




def display_samples_in_grid(X, n_rows, n_cols= None, y = None ):
    if n_cols is None: 
        n_cols= n_rows
    indices = np.random.randint(0, len(X),n_rows*n_cols)
    for i in range (n_rows): 
        for j in range (n_cols):
            index = n_rows*i+j           
            ax = plt.subplot(n_rows,n_cols,index+1) 
            plt.imshow(X[indices[index]])
            if not (y is None):
                plt.title(y[indices[index]])
            plt.axis('off')

    plt.tight_layout(h_pad=1)





import matplotlib.pyplot as plt

plt.figure()

display_samples_in_grid(X_train, n_rows=4, y= y_train)



m_train, num_px,_,_ = X_train.shape
m_test =  X_test.shape[0]
X_train = X_train.reshape(m_train, -1)
X_test =  X_test.reshape(m_test, -1)

y_train = np.squeeze(y_train)
y_test = np.squeeze(y_test)




from sklearn.preprocessing import MinMaxScaler

scaler = MinMaxScaler()

X_train_norm = scaler.fit_transform(X_train)
X_test_norm = scaler.fit_transform(X_test)




from sklearn.neural_network import MLPClassifier

classifier = MLPClassifier(solver='adam', activation='tanh', max_iter=700)
classifier.fit(X_train_norm, y_train)

print("One layer train accuracy= {:.3%}".format(classifier.score (X_train_norm,y_train)))
print("One layer test accuracy= {:.3%}".format(classifier.score (X_test_norm,y_test)))




for activation in ['relu']:
    classifier = MLPClassifier((3,3), solver='adam', activation=activation, max_iter=700)
    classifier.fit(X_train_norm, y_train)
    
    print(f"\n{activation}")
    print("Two layers train accuracy= {:.3%}".format(classifier.score (X_train_norm,y_train)))
    print("Two layers test accuracy= {:.3%}".format(classifier.score (X_test_norm,y_test)))
    print("-" * 20)



for activation in ['relu']:
    classifier = MLPClassifier((20,7,10), solver='adam', activation=activation, max_iter=700)
    classifier.fit(X_train_norm, y_train)
    
    print(f"\n{activation}")
    print("three layers train accuracy= {:.3%}".format(classifier.score (X_train_norm,y_train)))
    print("three layers test accuracy= {:.3%}".format(classifier.score (X_test_norm,y_test)))
    print("-" * 20)



from sklearn.svm import SVC
ft = SVC(C=10, kernel='rbf', gamma=0.001).fit(X_train_norm, y_train)
print("train accuracy= {:.3%}".format(ft.score (X_train_norm, y_train)))
print("test accuracy= {:.3%}".format(ft.score (X_test_norm, y_test)))